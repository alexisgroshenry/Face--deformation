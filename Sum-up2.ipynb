{
 "cells": [
  {
   "cell_type": "markdown",
   "metadata": {},
   "source": [
    "# Alexis Groshenry and Julien Bergerot - Deformation of faces using a drawing\n",
    "12 Dec 2020\n",
    "\n",
    "This idea came to us while we were scrolling on Instagram and run into this [page](https://www.instagram.com/thingsihavedrawn), *ThingsIHaveDrawn*. Although these results are obtained via photoshop, we wanted to automate this computation on faces.\n",
    "\n",
    "This work is divised in different part. First of all, we needed to extract faces features from one's face. Then, we were also required to do it on the drawing presented. Finally, we needed to compute the deformation observed in the drawing, on the original face.\n",
    "\n",
    "## Necessary packages\n",
    "\n",
    "We used cv2 for image processing, especially for the features extraction. The dlib and Delaunay library will be discussed in the relevant part."
   ]
  },
  {
   "cell_type": "code",
   "execution_count": 1,
   "metadata": {},
   "outputs": [],
   "source": [
    "# import the necessary packages\n",
    "from imutils import face_utils\n",
    "import numpy as np\n",
    "import imutils\n",
    "import dlib\n",
    "import cv2\n",
    "from math import *\n",
    "import matplotlib.pyplot as plt\n",
    "from numpy.linalg import inv\n",
    "from scipy.spatial import Delaunay\n",
    "from scipy import ndimage\n",
    "from scipy.interpolate import interp1d"
   ]
  },
  {
   "cell_type": "markdown",
   "metadata": {},
   "source": [
    "### Drawing and image\n",
    "\n",
    "We reshape the image according to the drawing's size."
   ]
  },
  {
   "cell_type": "code",
   "execution_count": 2,
   "metadata": {},
   "outputs": [],
   "source": [
    "# init the drawing and picture\n",
    "dessin = cv2.imread('drawings/thin.png') \n",
    "image = cv2.imread(\"images/photo.png\")\n",
    "# resize\n",
    "image = cv2.resize(image,dessin.shape[:2][::-1])"
   ]
  },
  {
   "cell_type": "markdown",
   "metadata": {},
   "source": [
    "## Extract drawing features\n",
    "\n",
    "We assume that a feature is a line that is not cut in different part, and opened. Therefore, each feature contains 2 extremities, that we will compute, so as to understand where is the first point of the feature."
   ]
  },
  {
   "cell_type": "code",
   "execution_count": 3,
   "metadata": {},
   "outputs": [],
   "source": [
    "# get the extremities so as to start at the correct place\n",
    "# careful for the drawing : extremities must contain only one neighbor\n",
    "\n",
    "\n",
    "def find_feature_ext(father,i,j,nb_features,union,res_dr,points_dr):\n",
    "    # according to a point of coordinate (i,j) we will look whether its 8 neighbors are in the same feature\n",
    "    grad_x = [-1,0,1]\n",
    "    grad_y = [-1,0,1]\n",
    "    n,m = union.shape\n",
    "    for e1 in grad_x:\n",
    "        for e2 in grad_y:\n",
    "            x=i+e1\n",
    "            y=j+e2\n",
    "            if m*x+y!=father and dessin[x,y,0]!=255. and union[x,y]==m*x+y:    \n",
    "                union[x,y]=father\n",
    "                points_dr[father][x,y] = get_neighbors(x,y,dessin)\n",
    "                find_feature_ext(father,x,y,nb_features,union,res_dr,points_dr)\n",
    "                \n",
    "\n",
    "def get_extremities(img) :\n",
    "    # given the drawing, will return the number of neighbors for each point that is not white\n",
    "    \n",
    "    # the points of the drawing\n",
    "    points_dr = {}    \n",
    "    \n",
    "    # union find for all the features\n",
    "    union=np.zeros(dessin.shape[:2])\n",
    "    (n,m)=union.shape\n",
    "    for i in range(n):\n",
    "        for j in range(m):\n",
    "            union[i,j]=m*i+j\n",
    "            \n",
    "\n",
    "    res_dr = {} # temporary contains the points, that still need labeling before going into res\n",
    "    nb_features=0\n",
    "    for j in range(m):\n",
    "        for i in range(n):\n",
    "            if dessin[i,j,0]==255.:\n",
    "                union[i,j]=0\n",
    "            #premier pixel d'un feature\n",
    "            elif union[i,j]==m*i+j:\n",
    "                points_dr[m*i+j] = {}\n",
    "                points_dr[m*i+j][i,j] = get_neighbors(i,j,dessin)\n",
    "                \n",
    "                find_feature_ext(m*i+j,i,j,nb_features,union,res_dr,points_dr)\n",
    "                res_dr[str(nb_features)] = points_dr[m*i+j]\n",
    "                nb_features+=1\n",
    "    return res_dr\n",
    "\n",
    "def get_neighbors(i,j,dessin) :\n",
    "    # numbers of neighbors of the (i,j) point\n",
    "    S = -1\n",
    "    neighbors = []\n",
    "    for e1 in [-1,0,1] :\n",
    "        for e2 in [-1,0,1] : \n",
    "            if dessin[i+e1,j+e2,0] != 255 :\n",
    "                S +=1\n",
    "                neighbors.append([i+e1,j+e2])\n",
    "    \n",
    "    return S"
   ]
  },
  {
   "cell_type": "markdown",
   "metadata": {},
   "source": [
    "### Extremities extraction\n",
    "\n",
    "For each feature, the extremities are the point with one neighbor. Then according to the two extremities, the first will be the closest to the origin."
   ]
  },
  {
   "cell_type": "code",
   "execution_count": 4,
   "metadata": {},
   "outputs": [],
   "source": [
    "res = get_extremities(dessin)\n",
    "ext = []\n",
    "for k in res : \n",
    "    current_ext = []\n",
    "    for key,values in res[k].items() :\n",
    "        if values == 1 :\n",
    "            current_ext.append(key)\n",
    "    # how to choose? closest to (0,0)\n",
    "    norm0 = np.linalg.norm(np.array(current_ext[0]))\n",
    "    norm1 = np.linalg.norm(np.array(current_ext[1]))\n",
    "    if norm0 > norm1 :\n",
    "        ext.append(current_ext[1])\n",
    "    else : \n",
    "        ext.append(current_ext[0])        "
   ]
  },
  {
   "cell_type": "markdown",
   "metadata": {},
   "source": [
    "## Extration of features\n",
    "\n",
    "We will now look at every extremities selected and deduced a feature. Then the user will be asked to assert the part each feature represent. At first, we wanted to use a neural network to label those shapes, but the purpose of the drawing is to completely change the features, so something looking like an eye, may just be the mouth the user has drawn."
   ]
  },
  {
   "cell_type": "code",
   "execution_count": 5,
   "metadata": {},
   "outputs": [],
   "source": [
    "def find_feature(father,i,j,nb_features,union,res_draw,res_dr,points_dr):\n",
    "    # according to a point we know is on the feature identified as *father*, we check if its neighbors are also.\n",
    "    grad_x = [-1,0,1]\n",
    "    grad_y = [-1,0,1]\n",
    "    n,m = union.shape\n",
    "    for e1 in grad_x:\n",
    "        for e2 in grad_y:\n",
    "            x=i+e1\n",
    "            y=j+e2\n",
    "            if m*x+y!=father and dessin[x,y,0]!=255. and union[x,y]==m*x+y:    \n",
    "                union[x,y]=father\n",
    "                points_dr[father].append([y,x])\n",
    "                res_draw[str(nb_features)][x,y] = 255\n",
    "                find_feature(father,x,y,nb_features,union,res_draw,res_dr,points_dr)\n",
    "                \n",
    "\n",
    "def compute_init_drawing() :\n",
    "    # the points of the drawing\n",
    "    points_dr = {}    \n",
    "    \n",
    "    # union find for all the features\n",
    "    union=np.zeros(dessin.shape[:2])\n",
    "    (n,m)=union.shape\n",
    "    for i in range(n):\n",
    "        for j in range(m):\n",
    "            union[i,j]=m*i+j\n",
    "            \n",
    "    res = {} # final result, after getting the right label\n",
    "    res_draw = {} # contains one image per feature, to help labeling\n",
    "    res_dr = {} # temporary contains the points, that still need labeling before going into res\n",
    "    nb_features = 0\n",
    "    \n",
    "    # we will look for each feature that we found previously\n",
    "    for x,y in ext :\n",
    "        points_dr[m*x+y] = [[y,x]]\n",
    "        res_draw[str(nb_features)] = np.zeros(union.shape)\n",
    "        res_draw[str(nb_features)][x,y] = 255\n",
    "        find_feature(m*x+y,x,y,nb_features,union,res_draw,res_dr,points_dr)\n",
    "        res_dr[str(nb_features)] = points_dr[m*x+y]\n",
    "        nb_features+=1\n",
    "        \n",
    "    # asking which part it is            \n",
    "    for k in res_draw :\n",
    "        plt.imshow(res_draw[k])\n",
    "        plt.show()\n",
    "        feature = input(\"Which feature is it ?\")\n",
    "        res[feature] = res_dr[k]\n",
    "        \n",
    "    return res"
   ]
  },
  {
   "cell_type": "markdown",
   "metadata": {},
   "source": [
    "### Feature extraction\n",
    "\n",
    "The following line will use the previously explained function.\n",
    "\n",
    "> **Careful :** The only available labels are : \n",
    "> \n",
    "> \n",
    "> - hair\n",
    "> - right_eye\n",
    "> - left_eye\n",
    "> - right_eyebrow\n",
    "> - left_eyebrow\n",
    "> - jaw\n",
    "> - mouth\n",
    "\n",
    "The result will be kept in *res_d*."
   ]
  },
  {
   "cell_type": "code",
   "execution_count": 6,
   "metadata": {},
   "outputs": [
    {
     "data": {
      "image/png": "[encoded data removed]",
      "text/plain": [
       "<Figure size 432x288 with 1 Axes>"
      ]
     },
     "metadata": {
      "needs_background": "light"
     },
     "output_type": "display_data"
    },
    {
     "name": "stdout",
     "output_type": "stream",
     "text": [
      "Which feature is it ?hair\n"
     ]
    },
    {
     "data": {
      "image/png": "[encoded data removed]",
      "text/plain": [
       "<Figure size 432x288 with 1 Axes>"
      ]
     },
     "metadata": {
      "needs_background": "light"
     },
     "output_type": "display_data"
    },
    {
     "name": "stdout",
     "output_type": "stream",
     "text": [
      "Which feature is it ?jaw\n"
     ]
    },
    {
     "data": {
      "image/png": "[encoded data removed]",
      "text/plain": [
       "<Figure size 432x288 with 1 Axes>"
      ]
     },
     "metadata": {
      "needs_background": "light"
     },
     "output_type": "display_data"
    },
    {
     "name": "stdout",
     "output_type": "stream",
     "text": [
      "Which feature is it ?right_eye\n"
     ]
    },
    {
     "data": {
      "image/png": "[encoded data removed]",
      "text/plain": [
       "<Figure size 432x288 with 1 Axes>"
      ]
     },
     "metadata": {
      "needs_background": "light"
     },
     "output_type": "display_data"
    },
    {
     "name": "stdout",
     "output_type": "stream",
     "text": [
      "Which feature is it ?mouth\n"
     ]
    },
    {
     "data": {
      "image/png": "[encoded data removed]",
      "text/plain": [
       "<Figure size 432x288 with 1 Axes>"
      ]
     },
     "metadata": {
      "needs_background": "light"
     },
     "output_type": "display_data"
    },
    {
     "name": "stdout",
     "output_type": "stream",
     "text": [
      "Which feature is it ?left_eye\n"
     ]
    }
   ],
   "source": [
    "res_d = compute_init_drawing()"
   ]
  },
  {
   "cell_type": "markdown",
   "metadata": {},
   "source": [
    "## Face feature extraction\n",
    "\n",
    "We used a pretrained model for face detection taken from this [page](https://www.pyimagesearch.com/2017/04/03/facial-landmarks-dlib-opencv-python/). This requires the dlib library and a pretrained model. The algorith explained in this tutorial contains some important points to describe each feature. Our principal function takes the image as an input and returns a dictionnary, containing, for each feature, the points. "
   ]
  },
  {
   "cell_type": "code",
   "execution_count": 7,
   "metadata": {},
   "outputs": [],
   "source": [
    "def rect_to_bb(rect):\n",
    "    # take a bounding predicted by dlib and convert it\n",
    "    # to the format (x, y, w, h) as we would normally do\n",
    "    # with OpenCV\n",
    "    x = rect.left()\n",
    "    y = rect.top()\n",
    "    w = rect.right() - x\n",
    "    h = rect.bottom() - y\n",
    "    # return a tuple of (x, y, w, h)\n",
    "    return (x, y, w, h)\n",
    "\n",
    "def shape_to_np(shape, dtype=\"int\"):\n",
    "    # initialize the list of (x, y)-coordinates\n",
    "    coords = np.zeros((68, 2), dtype=dtype)\n",
    "    # loop over the 68 facial landmarks and convert them\n",
    "    # to a 2-tuple of (x, y)-coordinates\n",
    "    for i in range(0, 68):\n",
    "        coords[i] = (shape.part(i).x, shape.part(i).y)\n",
    "    # return the list of (x, y)-coordinates\n",
    "    return coords\n",
    "\n",
    "def compute_init_pict(image) :\n",
    "    # initialize dlib's face detector (HOG-based) and then create\n",
    "    # the facial landmark predictor\n",
    "    detector = dlib.get_frontal_face_detector()\n",
    "    predictor = dlib.shape_predictor(\"model/shape_predictor_68_face_landmarks.dat\")\n",
    "    # load the input image, resize it, and convert it to grayscale\n",
    "    gray = cv2.cvtColor(image, cv2.COLOR_BGR2GRAY)\n",
    "    # detect faces in the grayscale image\n",
    "    rects = detector(gray, 1)\n",
    "\n",
    "    # loop over the face detections\n",
    "    res = {}\n",
    "    for rect in rects:\n",
    "        # determine the facial landmarks for the face region, then\n",
    "        # convert the landmark (x, y)-coordinates to a NumPy array\n",
    "        shape = predictor(gray, rect)\n",
    "        shape = face_utils.shape_to_np(shape)\n",
    "        # loop over the face parts individually\n",
    "        for (name, (i, j)) in face_utils.FACIAL_LANDMARKS_IDXS.items():\n",
    "            res[name] = {}\n",
    "            res[name][\"points\"] = []\n",
    "            # clone the original image so we can draw on it, then\n",
    "            # display the name of the face part on the image\n",
    "            for (indice,(x, y)) in enumerate(shape[i:j]):\n",
    "                res[name][\"points\"].append(shape[i:j][indice])\n",
    "\n",
    "    mat_res = np.zeros(image.shape[:2])\n",
    "\n",
    "    return res"
   ]
  },
  {
   "cell_type": "markdown",
   "metadata": {},
   "source": [
    "### Extract features\n",
    "\n",
    "The result will be kep in *res_im*."
   ]
  },
  {
   "cell_type": "code",
   "execution_count": 8,
   "metadata": {},
   "outputs": [],
   "source": [
    "res_im = compute_init_pict(image)"
   ]
  },
  {
   "cell_type": "markdown",
   "metadata": {},
   "source": [
    "## More features\n",
    "\n",
    "As you can see on the documentation page, the pretrained model does not extract anything above the eye. Therefore, we are trying to extrapolate the position of the hair and forehead. We tried to use parameters found [here](https://www.artyfactory.com/portraits/pencil-portraits/proportions-of-a-head.html) to compute the top of the forehead and the top of the hair."
   ]
  },
  {
   "cell_type": "code",
   "execution_count": 9,
   "metadata": {},
   "outputs": [],
   "source": [
    "def get_bottom(L) :\n",
    "    # return the bottomest point\n",
    "    bot = L[0][1]\n",
    "    for k in L :\n",
    "        if k[1]>bot :\n",
    "            bot = k[1]\n",
    "    return bot\n",
    "\n",
    "def add_hair(res_im) :\n",
    "    # coordinates of the face\n",
    "    mid = res_im[\"jaw\"][\"points\"][0][1]\n",
    "    left = res_im[\"jaw\"][\"points\"][0][0]\n",
    "    right = res_im[\"jaw\"][\"points\"][-1][0]\n",
    "    left1 = res_im[\"right_eye\"][\"points\"][0][0]\n",
    "    right1 = res_im[\"left_eye\"][\"points\"][3][0]\n",
    "    bottom = get_bottom(res_im[\"jaw\"][\"points\"])\n",
    "    middle_mouth = res_im[\"mouth\"][\"points\"][3][0]\n",
    "    dist = bottom - mid\n",
    "    \n",
    "    # points\n",
    "    top_left = [left,mid-dist]\n",
    "    top_right = [right,mid-dist]\n",
    "    hair_left = [left1,int(mid-0.8*dist)]\n",
    "    hair_right = [right1,int(mid-0.8*dist)]\n",
    "    top_hair = [middle_mouth,int(mid-1.3*dist)]\n",
    "    bottom_hair = [middle_mouth,int(mid-0.8*dist)]\n",
    "    hair = [top_left,top_hair,top_right,hair_right,bottom_hair,hair_left]\n",
    "    \n",
    "    res_im[\"hair\"] = {}\n",
    "    res_im[\"hair\"][\"points\"] = hair\n",
    "    return res_im"
   ]
  },
  {
   "cell_type": "markdown",
   "metadata": {},
   "source": [
    "### Hair and forehead\n",
    "\n",
    "*res_im* will now contains point of the forehead and hair."
   ]
  },
  {
   "cell_type": "code",
   "execution_count": 10,
   "metadata": {},
   "outputs": [],
   "source": [
    "res_im = add_hair(res_im)"
   ]
  },
  {
   "cell_type": "markdown",
   "metadata": {},
   "source": [
    "## Interpolation\n",
    "\n",
    "We wanted to have the possibility to add points between the pre-existing points detected via the neural network. To do so, we used cubic interpolation.\n",
    "\n",
    "Note that *jaw* and *eyebrow* are not closed part so we do not want to compute the whole turn."
   ]
  },
  {
   "cell_type": "code",
   "execution_count": 11,
   "metadata": {},
   "outputs": [],
   "source": [
    "# add points according to cubic interpolation\n",
    "# not so good for now\n",
    "def add_points(points,part=\"jaw\") :\n",
    "    if part == \"hair\" or part == \"left_eybrow\" or part == \"right_eyebrow\" :\n",
    "        return points\n",
    "    x = []\n",
    "    y = []\n",
    "    for a,b in points:\n",
    "        x.append(a)\n",
    "        y.append(b)\n",
    "    if not (part in [\"jaw\",'left_eyebrow','right_eyebrow']) :\n",
    "        x.append(points[0][0])\n",
    "        y.append(points[0][1])\n",
    "    t = [k for k in range(len(x))]\n",
    "    new_points = []\n",
    "    fx = interp1d(t, x, kind='cubic')\n",
    "    fy = interp1d(t, y, kind='cubic')\n",
    "    for i in t : \n",
    "        try : \n",
    "            # last point in the first point if we circle\n",
    "            if i != len(t)-1 and not(part in [\"jaw\",'left_eyebrow','right_eyebrow']) :\n",
    "                x_x = fx(i)\n",
    "                y_y = fy(i)\n",
    "                new_points.append([int(x_x),int(y_y)])\n",
    "            elif (part in [\"jaw\",'left_eyebrow','right_eyebrow']) : \n",
    "                x_x = fx(i)\n",
    "                y_y = fy(i)\n",
    "                new_points.append([int(x_x),int(y_y)])\n",
    "            x_x = fx(i+0.5)\n",
    "            y_y = fy(i+0.5)\n",
    "            new_points.append([int(x_x),int(y_y)])\n",
    "        except :\n",
    "            print(\"Okay mistake\") # actually not a mistake, but I did not know what to say\n",
    "    return new_points"
   ]
  },
  {
   "cell_type": "markdown",
   "metadata": {},
   "source": [
    "### Compute interpolation\n",
    "\n",
    "Note that their algorith returns points for the inside of the mouth. We do not want these, hence the *[:12]*.\n",
    "We stock every points in *points_tot*, a dictionnary that, for every feature, contains points of the image and drawing."
   ]
  },
  {
   "cell_type": "code",
   "execution_count": 12,
   "metadata": {},
   "outputs": [
    {
     "name": "stdout",
     "output_type": "stream",
     "text": [
      "Okay mistake\n",
      "Okay mistake\n",
      "Okay mistake\n",
      "Okay mistake\n"
     ]
    }
   ],
   "source": [
    "points_tot = {}\n",
    "for k in res_d :\n",
    "    points_tot[k] = {}\n",
    "    points_tot[k][\"drawing\"] = res_d[k]\n",
    "    if k == 'mouth' :\n",
    "        points_tot[k][\"image\"] = add_points(res_im[k][\"points\"][:12],part=k)\n",
    "    else :\n",
    "        points_tot[k][\"image\"] = add_points(res_im[k][\"points\"],part=k)"
   ]
  },
  {
   "cell_type": "markdown",
   "metadata": {},
   "source": [
    "## Same amount of points\n",
    "\n",
    "To properly link points of the drawing to points of the image, each feature needs to contain the same amount of points for both. Here, given the number of points selected on the image, we will selected the same number of points from the drawing, evenly spaced."
   ]
  },
  {
   "cell_type": "code",
   "execution_count": 13,
   "metadata": {},
   "outputs": [],
   "source": [
    "def good_points(origine,goal) :\n",
    "    # we have origine points (greater number) and want to obtain as much points as in goal\n",
    "    n = len(goal)\n",
    "    count = len(origine)\n",
    "    obj = []\n",
    "    interval = count//n\n",
    "    for i in range(n) :\n",
    "        obj.append(origine[i*interval])\n",
    "    return obj\n",
    "\n",
    "for k in points_tot : \n",
    "    points_tot[k][\"drawing\"] = good_points(points_tot[k][\"drawing\"],points_tot[k][\"image\"])"
   ]
  },
  {
   "cell_type": "markdown",
   "metadata": {},
   "source": [
    "### All in one\n",
    "\n",
    "Now, we will use a single list for image and drawing, and put all the points in it. The first image point will be link to the first drawing point and so on."
   ]
  },
  {
   "cell_type": "code",
   "execution_count": 14,
   "metadata": {},
   "outputs": [],
   "source": [
    "image_points = []\n",
    "drawing_points = []\n",
    "for k in points_tot :\n",
    "    for i in points_tot[k][\"image\"] :\n",
    "        image_points.append(i)\n",
    "    for j in points_tot[k][\"drawing\"] :\n",
    "        drawing_points.append(j)"
   ]
  },
  {
   "cell_type": "markdown",
   "metadata": {},
   "source": [
    "## Delaunay method\n",
    "\n",
    "This method is used for triangulation. We therefore used it to triangulate the image, because the latter is probably better suited for this (less distorted)."
   ]
  },
  {
   "cell_type": "code",
   "execution_count": 15,
   "metadata": {},
   "outputs": [
    {
     "data": {
      "image/png": "[encoded data removed]",
      "text/plain": [
       "<Figure size 432x288 with 1 Axes>"
      ]
     },
     "metadata": {
      "needs_background": "light"
     },
     "output_type": "display_data"
    }
   ],
   "source": [
    "points =np.array([list(coords) for coords in image_points])\n",
    "drawing_points = np.array([list(coords) for coords in drawing_points])\n",
    "\n",
    "# compute Delaunay method\n",
    "tri = Delaunay(points)\n",
    "faces = tri.simplices # contains the point of each \n",
    "# care it is in the wrong sens\n",
    "plt.triplot(points[:,0], points[:,1], tri.simplices)\n",
    "plt.plot(points[:,0], points[:,1], 'o')\n",
    "plt.show()"
   ]
  },
  {
   "cell_type": "markdown",
   "metadata": {},
   "source": [
    "### Face belonging\n",
    "\n",
    "The final function will go through every point of the drawing, identified which face it is in, find the coefficients related to the vertices of the face. Given these coefficients, we can compute the point on the image (the face is the one with the vertices index on the face we found on the drawing). Then, we just need to give this point the value of the pixel on the image.\n",
    "\n",
    "We therefore need to have a function returning the face the point is in and the coefficient. These function where found [here](https://stackoverflow.com/questions/1119627/how-to-test-if-a-point-is-inside-of-a-convex-polygon-in-2d-integer-coordinates) and we changed a small part for the points on the edges."
   ]
  },
  {
   "cell_type": "code",
   "execution_count": 16,
   "metadata": {},
   "outputs": [],
   "source": [
    "RIGHT = \"RIGHT\"\n",
    "LEFT = \"LEFT\"\n",
    "\n",
    "def get_min_max(x,y) :\n",
    "    if x>y : \n",
    "        return y,x\n",
    "    return x,y\n",
    "\n",
    "# whether the point in inside the polygone, here triangle\n",
    "def inside_convex_polygon(point, vertices):\n",
    "    # inside the triangle\n",
    "    previous_side = None\n",
    "    n_vertices = len(vertices)\n",
    "    for n in range(n_vertices):\n",
    "        a, b = vertices[n], vertices[(n+1)%n_vertices]\n",
    "        affine_segment = v_sub(b, a)\n",
    "        affine_point = v_sub(point, a)\n",
    "        current_side = get_side(affine_segment, affine_point)\n",
    "        if current_side is None:\n",
    "            #outside or over an edge\n",
    "            # check if over an edge\n",
    "            min_x,max_x = get_min_max(a[0],b[0])\n",
    "            min_y,max_y = get_min_max(a[1],b[1])\n",
    "            if point[0] >= min_x and point[0] <= max_x and point[1]>=min_y and point[1] <= max_y :\n",
    "                return True\n",
    "            return False #outside\n",
    "        elif previous_side is None: #first segment\n",
    "            previous_side = current_side\n",
    "        elif previous_side != current_side:\n",
    "            return False\n",
    "    return True\n",
    "\n",
    "def on_convexe_polygone(point,vertices) : \n",
    "    # on the vertices or edges\n",
    "    for i in range(len(vertices)) : # will be 3 cause it is a triangle\n",
    "        if (vertices[i][0] - vertices[(i+1)%len(vertices)][0]) == 0 and vertices[i][1]== point[1] : \n",
    "            return False\n",
    "        if point[1] == (vertices[i][1] - vertices[(i+1)%len(vertices)][1]) / (vertices[i][0] - vertices[(i+1)%len(vertices)][0]) * (point[0] -vertices[i][0]) + vertices[i][1] : \n",
    "            return True # aka the point is on the edge betwen vertice[i] and vertice[i+1]\n",
    "    return False\n",
    "\n",
    "def get_side(a, b):\n",
    "    x = cosine_sign(a, b)\n",
    "    if x < 0:\n",
    "        return LEFT\n",
    "    elif x > 0: \n",
    "        return RIGHT\n",
    "    else:\n",
    "        return None\n",
    "\n",
    "def v_sub(a, b):\n",
    "    return (a[0]-b[0], a[1]-b[1])\n",
    "\n",
    "def cosine_sign(a, b):\n",
    "    return a[0]*b[1]-a[1]*b[0]\n",
    "\n",
    "def get_face(point,F,V) :\n",
    "    # given a point, return the face in which he is contained\n",
    "    for ind,k in enumerate(F) :\n",
    "        if inside_convex_polygon(point,[V[k[0]],V[k[1]],V[k[2]]]) :\n",
    "            return ind \n",
    "\n",
    "# point = alpha * point[0] + beta * point[1] + gamma * point[2]\n",
    "def get_coefs(point,vertices) :\n",
    "    # one point and the three vertices\n",
    "    M = np.ones((3,3))\n",
    "    M[1,0] = vertices[0][0]\n",
    "    M[1,1] = vertices[1][0]\n",
    "    M[1,2] = vertices[2][0]\n",
    "    \n",
    "    M[2,0] = vertices[0][1]\n",
    "    M[2,1] = vertices[1][1]\n",
    "    M[2,2] = vertices[2][1]\n",
    "    \n",
    "    Y = np.zeros((3,1))\n",
    "    Y[0,0] = 1\n",
    "    Y[1,0] = point[0]\n",
    "    Y[2,0] = point[1]\n",
    "    try :\n",
    "        return inv(M) @ Y\n",
    "    except :\n",
    "        # the face is flat\n",
    "        # If the face is flat, which point are more important?\n",
    "        default = np.zeros((3,1))\n",
    "        default[0,0] = np.linalg.norm(np.array(vertices[0])-np.array(point))\n",
    "        default[1,0] = np.linalg.norm(np.array(vertices[1])-np.array(point))\n",
    "        default[2,0] = np.linalg.norm(np.array(vertices[2])-np.array(point))\n",
    "        norm = np.linalg.norm(np.array(vertices[0])-np.array(point)) + np.linalg.norm(np.array(vertices[1])-np.array(point)) +np.linalg.norm(np.array(vertices[2])-np.array(point))\n",
    "        default = default / norm\n",
    "        default[0,0] = 1-default[0,0]\n",
    "        default[1,0] = 1-default[1,0]\n",
    "        default[2,0] = 1-default[2,0]\n",
    "        default = default / np.linalg.norm(default)\n",
    "        return default"
   ]
  },
  {
   "cell_type": "markdown",
   "metadata": {},
   "source": [
    "## Final result\n",
    "\n",
    "We the previous functions, we can now compute our desired result."
   ]
  },
  {
   "cell_type": "code",
   "execution_count": 17,
   "metadata": {},
   "outputs": [
    {
     "name": "stdout",
     "output_type": "stream",
     "text": [
      "Column 0 over 500\n",
      "Column 50 over 500\n",
      "Column 100 over 500\n",
      "Column 150 over 500\n",
      "Column 200 over 500\n",
      "Column 250 over 500\n",
      "Column 300 over 500\n",
      "Column 350 over 500\n",
      "Column 400 over 500\n",
      "Column 450 over 500\n"
     ]
    }
   ],
   "source": [
    "#result matrix\n",
    "deformed = np.zeros(dessin.shape)\n",
    "\n",
    "for i in range(dessin.shape[1]):\n",
    "    if i%50 == 0 :\n",
    "        print(\"Column {} over {}\".format(i,dessin.shape[1]))\n",
    "    for j in range(dessin.shape[0]):\n",
    "        for f in tri.simplices:\n",
    "            l=list(drawing_points[v] for v in list(f))\n",
    "            l2 = list(points[v] for v in list(f))\n",
    "            if inside_convex_polygon([i,j],l):\n",
    "                coefs=get_coefs([i,j],l)\n",
    "                x = int(sum(coefs[i]*l2[i][0] for i in range(3) ))\n",
    "                y = int(sum(coefs[i]*l2[i][1] for i in range(3) ))\n",
    "                # a cause des arrondis, sometimes ca dépasse\n",
    "                if x > dessin.shape[1]-1 :\n",
    "                    x = dessin.shape[1] -1\n",
    "                if y > dessin.shape[0]-1 :\n",
    "                    y = dessin.shape[0] - 1\n",
    "                deformed[j,i]=image[y,x]\n",
    "                break"
   ]
  },
  {
   "cell_type": "markdown",
   "metadata": {},
   "source": [
    "### Result\n",
    "\n",
    "The result is in *deformed* and can be projected via *plt* or *cv2*."
   ]
  },
  {
   "cell_type": "code",
   "execution_count": 54,
   "metadata": {},
   "outputs": [
    {
     "data": {
      "image/png": "[encoded data removed]",
      "text/plain": [
       "<Figure size 432x288 with 1 Axes>"
      ]
     },
     "metadata": {
      "needs_background": "light"
     },
     "output_type": "display_data"
    }
   ],
   "source": [
    "deformed = deformed.astype(\"uint8\")\n",
    "plt.imshow(deformed)\n",
    "plt.show()"
   ]
  },
  {
   "cell_type": "code",
   "execution_count": 55,
   "metadata": {},
   "outputs": [
    {
     "data": {
      "text/plain": [
       "-1"
      ]
     },
     "execution_count": 55,
     "metadata": {},
     "output_type": "execute_result"
    }
   ],
   "source": [
    "cv2.imshow(\"test\",deformed)\n",
    "cv2.waitKey(0)"
   ]
  },
  {
   "cell_type": "markdown",
   "metadata": {},
   "source": [
    "### Save the result"
   ]
  },
  {
   "cell_type": "code",
   "execution_count": 125,
   "metadata": {},
   "outputs": [
    {
     "data": {
      "text/plain": [
       "True"
      ]
     },
     "execution_count": 125,
     "metadata": {},
     "output_type": "execute_result"
    }
   ],
   "source": [
    "cv2.imwrite(\"result/res.png\",deformed)"
   ]
  },
  {
   "cell_type": "code",
   "execution_count": null,
   "metadata": {},
   "outputs": [],
   "source": []
  }
 ],
 "metadata": {
  "kernelspec": {
   "display_name": "Python 3",
   "language": "python",
   "name": "python3"
  },
  "language_info": {
   "codemirror_mode": {
    "name": "ipython",
    "version": 3
   },
   "file_extension": ".py",
   "mimetype": "text/x-python",
   "name": "python",
   "nbconvert_exporter": "python",
   "pygments_lexer": "ipython3",
   "version": "3.7.0"
  }
 },
 "nbformat": 4,
 "nbformat_minor": 4
}
